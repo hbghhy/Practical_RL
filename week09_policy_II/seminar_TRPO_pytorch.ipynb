{
 "cells": [
  {
   "cell_type": "code",
   "execution_count": 1,
   "metadata": {
    "ExecuteTime": {
     "end_time": "2019-09-29T13:53:14.372268Z",
     "start_time": "2019-09-29T13:53:14.369242Z"
    }
   },
   "outputs": [],
   "source": [
    "# # in google colab uncomment this\n",
    "\n",
    "# import os\n",
    "\n",
    "# os.system('apt-get install -y xvfb')\n",
    "# os.system('wget https://raw.githubusercontent.com/yandexdataschool/Practical_DL/fall18/xvfb -O ../xvfb')\n",
    "# os.system('apt-get install -y python-opengl ffmpeg')\n",
    "# os.system('pip install pyglet==1.2.4')\n",
    "\n",
    "# launch XVFB if you run on a server\n",
    "import os\n",
    "# if type(os.environ.get(\"DISPLAY\")) is not str or len(os.environ.get(\"DISPLAY\")) == 0:\n",
    "#     !bash ../xvfb start\n",
    "#     os.environ['DISPLAY'] = ':1'"
   ]
  },
  {
   "cell_type": "markdown",
   "metadata": {},
   "source": [
    "### Let's make a TRPO!\n",
    "\n",
    "In this notebook we will write the code of the one Trust Region Policy Optimization.\n",
    "As usually, it contains a few different parts which we are going to reproduce.\n",
    "\n"
   ]
  },
  {
   "cell_type": "code",
   "execution_count": 2,
   "metadata": {
    "ExecuteTime": {
     "end_time": "2019-09-29T13:53:37.929653Z",
     "start_time": "2019-09-29T13:53:17.934660Z"
    }
   },
   "outputs": [],
   "source": [
    "import numpy as np\n",
    "import torch\n",
    "import torch.nn as nn\n",
    "import torch.nn.functional as F\n",
    "from torch.autograd import Variable"
   ]
  },
  {
   "cell_type": "code",
   "execution_count": 3,
   "metadata": {
    "ExecuteTime": {
     "end_time": "2019-09-29T13:53:54.421202Z",
     "start_time": "2019-09-29T13:53:54.119308Z"
    }
   },
   "outputs": [
    {
     "name": "stdout",
     "output_type": "stream",
     "text": [
      "Observation Space Box(6,)\n",
      "Action Space Discrete(3)\n"
     ]
    }
   ],
   "source": [
    "import gym\n",
    "\n",
    "env = gym.make(\"Acrobot-v1\")\n",
    "env.reset()\n",
    "observation_shape = env.observation_space.shape\n",
    "n_actions = env.action_space.n\n",
    "print(\"Observation Space\", env.observation_space)\n",
    "print(\"Action Space\", env.action_space)"
   ]
  },
  {
   "cell_type": "code",
   "execution_count": 4,
   "metadata": {
    "ExecuteTime": {
     "end_time": "2019-09-29T13:54:08.742995Z",
     "start_time": "2019-09-29T13:54:03.224349Z"
    }
   },
   "outputs": [
    {
     "data": {
      "text/plain": [
       "<matplotlib.image.AxesImage at 0x2140d690f28>"
      ]
     },
     "execution_count": 4,
     "metadata": {},
     "output_type": "execute_result"
    },
    {
     "data": {
      "image/png": "[encoded data removed]",
      "text/plain": [
       "<Figure size 432x288 with 1 Axes>"
      ]
     },
     "metadata": {
      "needs_background": "light"
     },
     "output_type": "display_data"
    }
   ],
   "source": [
    "import matplotlib.pyplot as plt\n",
    "%matplotlib inline\n",
    "plt.imshow(env.render('rgb_array'))"
   ]
  },
  {
   "cell_type": "markdown",
   "metadata": {},
   "source": [
    "### Step 1: Defining a network\n",
    "\n",
    "With all it's complexity, at it's core TRPO is yet another policy gradient method. \n",
    "\n",
    "This essentially means we're actually training a stochastic policy $ \\pi_\\theta(a|s) $. \n",
    "\n",
    "And yes, it's gonna be a neural network. So let's start by defining one."
   ]
  },
  {
   "cell_type": "code",
   "execution_count": 9,
   "metadata": {
    "ExecuteTime": {
     "end_time": "2019-09-29T14:01:16.915819Z",
     "start_time": "2019-09-29T14:01:16.910807Z"
    }
   },
   "outputs": [
    {
     "data": {
      "text/plain": [
       "(6,)"
      ]
     },
     "execution_count": 9,
     "metadata": {},
     "output_type": "execute_result"
    }
   ],
   "source": [
    "observation_shape"
   ]
  },
  {
   "cell_type": "code",
   "execution_count": 11,
   "metadata": {
    "ExecuteTime": {
     "end_time": "2019-09-29T14:01:43.577545Z",
     "start_time": "2019-09-29T14:01:43.565576Z"
    }
   },
   "outputs": [],
   "source": [
    "class TRPOAgent(nn.Module):\n",
    "    def __init__(self, state_shape, n_actions, hidden_size=32):\n",
    "        '''\n",
    "        Here you should define your model\n",
    "        You should have LOG-PROBABILITIES as output because you will need it to compute loss\n",
    "        We recommend that you start simple: \n",
    "        use 1-2 hidden layers with 100-500 units and relu for the first try\n",
    "        '''\n",
    "        nn.Module.__init__(self)\n",
    "\n",
    "        \n",
    "        self.model = nn.Sequential()\n",
    "        self.model.add_module('linear1',nn.Linear(state_shape[0],hidden_size))\n",
    "        self.model.add_module('relu1',nn.ReLU(inplace=True))\n",
    "        self.model.add_module('linear2',nn.Linear(hidden_size,hidden_size))\n",
    "        self.model.add_module('relu2',nn.ReLU(inplace=True))\n",
    "        self.model.add_module('linear3',nn.Linear(hidden_size,n_actions))\n",
    "        self.model.add_module('log_softmax',nn.LogSoftmax(dim=1))\n",
    "\n",
    "    def forward(self, states):\n",
    "        \"\"\"\n",
    "        takes agent's observation (Variable), returns log-probabilities (Variable)\n",
    "        :param state_t: a batch of states, shape = [batch_size, state_shape]\n",
    "        \"\"\"\n",
    "\n",
    "        # Use your network to compute log_probs for given state\n",
    "        log_probs = self.model(states)\n",
    "        return log_probs\n",
    "\n",
    "    def get_log_probs(self, states):\n",
    "        '''\n",
    "        Log-probs for training\n",
    "        '''\n",
    "\n",
    "        return self.forward(states)\n",
    "\n",
    "    def get_probs(self, states):\n",
    "        '''\n",
    "        Probs for interaction\n",
    "        '''\n",
    "\n",
    "        return torch.exp(self.forward(states))\n",
    "\n",
    "    def act(self, obs, sample=True):\n",
    "        '''\n",
    "        Samples action from policy distribution (sample = True) or takes most likely action (sample = False)\n",
    "        :param: obs - single observation vector\n",
    "        :param sample: if True, samples from \\pi, otherwise takes most likely action\n",
    "        :returns: action (single integer) and probabilities for all actions\n",
    "        '''\n",
    "\n",
    "        probs = self.get_probs(Variable(torch.FloatTensor([obs]))).data.numpy()\n",
    "\n",
    "        if sample:\n",
    "            action = int(np.random.choice(n_actions, p=probs[0]))\n",
    "        else:\n",
    "            action = int(np.argmax(probs))\n",
    "\n",
    "        return action, probs[0]\n",
    "\n",
    "\n",
    "agent = TRPOAgent(observation_shape, n_actions)"
   ]
  },
  {
   "cell_type": "code",
   "execution_count": 12,
   "metadata": {
    "ExecuteTime": {
     "end_time": "2019-09-29T14:01:46.626301Z",
     "start_time": "2019-09-29T14:01:46.604384Z"
    }
   },
   "outputs": [
    {
     "name": "stdout",
     "output_type": "stream",
     "text": [
      "sampled: [(0, array([0.34426576, 0.30379006, 0.35194424], dtype=float32)), (0, array([0.34344625, 0.30418646, 0.35236725], dtype=float32)), (0, array([0.3420423 , 0.30536592, 0.35259178], dtype=float32)), (0, array([0.34234875, 0.30520496, 0.35244632], dtype=float32)), (0, array([0.34259576, 0.3053838 , 0.35202038], dtype=float32))]\n",
      "greedy: [(2, array([0.3420595 , 0.30604517, 0.35189536], dtype=float32)), (2, array([0.34259152, 0.30486208, 0.35254645], dtype=float32)), (2, array([0.34279123, 0.3046291 , 0.35257965], dtype=float32)), (2, array([0.34189516, 0.30573916, 0.3523656 ], dtype=float32)), (2, array([0.3419566 , 0.30555475, 0.3524886 ], dtype=float32))]\n"
     ]
    }
   ],
   "source": [
    "# Check if log-probabilities satisfies all the requirements\n",
    "log_probs = agent.get_log_probs(Variable(torch.FloatTensor([env.reset()])))\n",
    "assert isinstance(\n",
    "    log_probs, Variable) and log_probs.requires_grad, \"qvalues must be a torch variable with grad\"\n",
    "assert len(\n",
    "    log_probs.shape) == 2 and log_probs.shape[0] == 1 and log_probs.shape[1] == n_actions\n",
    "sums = torch.sum(torch.exp(log_probs), dim=1)\n",
    "assert (0.999 < sums).all() and (1.001 > sums).all()\n",
    "\n",
    "# Demo use\n",
    "print(\"sampled:\", [agent.act(env.reset()) for _ in range(5)])\n",
    "print(\"greedy:\", [agent.act(env.reset(), sample=False) for _ in range(5)])"
   ]
  },
  {
   "cell_type": "markdown",
   "metadata": {},
   "source": [
    "#### Flat parameters operations\n",
    "\n",
    "We are going to use it"
   ]
  },
  {
   "cell_type": "code",
   "execution_count": 13,
   "metadata": {
    "ExecuteTime": {
     "end_time": "2019-09-29T14:05:58.826873Z",
     "start_time": "2019-09-29T14:05:58.820888Z"
    }
   },
   "outputs": [],
   "source": [
    "def get_flat_params_from(model):\n",
    "    params = []\n",
    "    for param in model.parameters():\n",
    "        params.append(param.data.view(-1))\n",
    "\n",
    "    flat_params = torch.cat(params)\n",
    "    return flat_params\n",
    "\n",
    "\n",
    "def set_flat_params_to(model, flat_params):\n",
    "    prev_ind = 0\n",
    "    for param in model.parameters():\n",
    "        flat_size = int(np.prod(list(param.size())))\n",
    "        param.data.copy_(\n",
    "            flat_params[prev_ind:prev_ind + flat_size].view(param.size()))\n",
    "        prev_ind += flat_size"
   ]
  },
  {
   "cell_type": "markdown",
   "metadata": {},
   "source": [
    "Compute cummulative reward just like you did in vanilla REINFORCE"
   ]
  },
  {
   "cell_type": "code",
   "execution_count": 14,
   "metadata": {
    "ExecuteTime": {
     "end_time": "2019-09-29T14:06:19.863256Z",
     "start_time": "2019-09-29T14:06:15.385694Z"
    }
   },
   "outputs": [],
   "source": [
    "import scipy.signal\n",
    "\n",
    "\n",
    "def get_cummulative_returns(r, gamma=1):\n",
    "    \"\"\"\n",
    "    Computes cummulative discounted rewards given immediate rewards\n",
    "    G_i = r_i + gamma*r_{i+1} + gamma^2*r_{i+2} + ...\n",
    "    Also known as R(s,a).\n",
    "    \"\"\"\n",
    "    r = np.array(r)\n",
    "    assert r.ndim >= 1\n",
    "    return scipy.signal.lfilter([1], [1, -gamma], r[::-1], axis=0)[::-1]"
   ]
  },
  {
   "cell_type": "code",
   "execution_count": 15,
   "metadata": {
    "ExecuteTime": {
     "end_time": "2019-09-29T14:06:21.403576Z",
     "start_time": "2019-09-29T14:06:21.397587Z"
    }
   },
   "outputs": [
    {
     "data": {
      "text/plain": [
       "array([1.40049, 1.5561 , 1.729  , 0.81   , 0.9    , 1.     ])"
      ]
     },
     "execution_count": 15,
     "metadata": {},
     "output_type": "execute_result"
    }
   ],
   "source": [
    "# simple demo on rewards [0,0,1,0,0,1]\n",
    "get_cummulative_returns([0, 0, 1, 0, 0, 1], gamma=0.9)"
   ]
  },
  {
   "cell_type": "markdown",
   "metadata": {},
   "source": [
    "**Rollout**"
   ]
  },
  {
   "cell_type": "code",
   "execution_count": 16,
   "metadata": {
    "ExecuteTime": {
     "end_time": "2019-09-29T14:13:58.480375Z",
     "start_time": "2019-09-29T14:13:58.472423Z"
    }
   },
   "outputs": [],
   "source": [
    "def rollout(env, agent, max_pathlength=2500, n_timesteps=50000):\n",
    "    \"\"\"\n",
    "    Generate rollouts for training.\n",
    "    :param: env - environment in which we will make actions to generate rollouts.\n",
    "    :param: act - the function that can return policy and action given observation.\n",
    "    :param: max_pathlength - maximum size of one path that we generate.\n",
    "    :param: n_timesteps - total sum of sizes of all pathes we generate.\n",
    "    \"\"\"\n",
    "    paths = []\n",
    "\n",
    "    total_timesteps = 0\n",
    "    while total_timesteps < n_timesteps:\n",
    "        obervations, actions, rewards, action_probs = [], [], [], []\n",
    "        obervation = env.reset()\n",
    "        for _ in range(max_pathlength):\n",
    "            action, policy = agent.act(obervation)\n",
    "            obervations.append(obervation)\n",
    "            actions.append(action)\n",
    "            action_probs.append(policy)\n",
    "            obervation, reward, done, _ = env.step(action)\n",
    "            rewards.append(reward)\n",
    "            total_timesteps += 1\n",
    "            if done or total_timesteps == n_timesteps:\n",
    "                path = {\"observations\": np.array(obervations),\n",
    "                        \"policy\": np.array(action_probs),\n",
    "                        \"actions\": np.array(actions),\n",
    "                        \"rewards\": np.array(rewards),\n",
    "                        \"cumulative_returns\": get_cummulative_returns(rewards),\n",
    "                        }\n",
    "                paths.append(path)\n",
    "                break\n",
    "    return paths"
   ]
  },
  {
   "cell_type": "code",
   "execution_count": 17,
   "metadata": {
    "ExecuteTime": {
     "end_time": "2019-09-29T14:14:05.396777Z",
     "start_time": "2019-09-29T14:14:05.347906Z"
    }
   },
   "outputs": [
    {
     "name": "stdout",
     "output_type": "stream",
     "text": [
      "{'observations': array([[ 0.99895614,  0.04567955,  0.99544669, -0.09531989, -0.01671126,\n",
      "        -0.01976689],\n",
      "       [ 0.99938143,  0.03516756,  0.99635744, -0.0852752 , -0.08596137,\n",
      "         0.11712014],\n",
      "       [ 0.99991541,  0.01300657,  0.99868448, -0.05127687, -0.13012105,\n",
      "         0.21431375],\n",
      "       [ 0.9996232 , -0.02744925,  0.9995499 ,  0.03000006, -0.26352812,\n",
      "         0.57803199],\n",
      "       [ 0.99731293, -0.07325932,  0.99100836,  0.13379997, -0.18280371,\n",
      "         0.43920983]]), 'policy': array([[0.34242195, 0.30546716, 0.35211092],\n",
      "       [0.34024042, 0.30741167, 0.35234794],\n",
      "       [0.33914116, 0.30849165, 0.35236722],\n",
      "       [0.3353127 , 0.31425387, 0.35043344],\n",
      "       [0.3386225 , 0.31056213, 0.35081536]], dtype=float32), 'actions': array([1, 1, 2, 1, 0]), 'rewards': array([-1., -1., -1., -1., -1.]), 'cumulative_returns': array([-5., -4., -3., -2., -1.])}\n",
      "It's ok\n"
     ]
    }
   ],
   "source": [
    "paths = rollout(env, agent, max_pathlength=5, n_timesteps=100)\n",
    "print(paths[-1])\n",
    "assert (paths[0]['policy'].shape == (5, n_actions))\n",
    "assert (paths[0]['cumulative_returns'].shape == (5,))\n",
    "assert (paths[0]['rewards'].shape == (5,))\n",
    "assert (paths[0]['observations'].shape == (5,)+observation_shape)\n",
    "assert (paths[0]['actions'].shape == (5,))\n",
    "print('It\\'s ok')"
   ]
  },
  {
   "cell_type": "markdown",
   "metadata": {},
   "source": [
    "### Step 3: Auxiliary functions\n",
    "\n",
    "Now let's define the loss functions and something else for actual TRPO training."
   ]
  },
  {
   "cell_type": "markdown",
   "metadata": {},
   "source": [
    "The surrogate reward should be\n",
    "$$J_{surr}= {1 \\over N} \\sum\\limits_{i=0}^N \\frac{\\pi_{\\theta}(s_i, a_i)}{\\pi_{\\theta_{old}}(s_i, a_i)}A_{\\theta_{old}(s_i, a_i)}$$\n",
    "\n",
    "For simplicity, let's use cummulative returns instead of advantage for now:\n",
    "$$J'_{surr}= {1 \\over N} \\sum\\limits_{i=0}^N \\frac{\\pi_{\\theta}(s_i, a_i)}{\\pi_{\\theta_{old}}(s_i, a_i)}G_{\\theta_{old}(s_i, a_i)}$$\n",
    "\n",
    "Or alternatively, minimize the surrogate loss:\n",
    "$$ L_{surr} = - J'_{surr} $$  \n"
   ]
  },
  {
   "cell_type": "code",
   "execution_count": 21,
   "metadata": {
    "ExecuteTime": {
     "end_time": "2019-09-29T15:02:22.946053Z",
     "start_time": "2019-09-29T15:02:22.938068Z"
    }
   },
   "outputs": [],
   "source": [
    "def get_loss(agent, observations, actions, cummulative_returns, old_probs):\n",
    "    \"\"\"\n",
    "    Computes TRPO objective\n",
    "    :param: observations - batch of observations\n",
    "    :param: actions - batch of actions\n",
    "    :param: cummulative_returns - batch of cummulative returns\n",
    "    :param: old_probs - batch of probabilities computed by old network\n",
    "    :returns: scalar value of the objective function\n",
    "    \"\"\"\n",
    "    batch_size = observations.shape[0]\n",
    "    log_probs_all = agent.get_log_probs(observations)\n",
    "    probs_all = torch.exp(log_probs_all)\n",
    "\n",
    "    probs_for_actions = probs_all[torch.arange(\n",
    "        0, batch_size, out=torch.LongTensor()), actions]\n",
    "    old_probs_for_actions = old_probs[torch.arange(\n",
    "        0, batch_size, out=torch.LongTensor()), actions]\n",
    "\n",
    "    # Compute surrogate loss, aka importance-sampled policy gradient\n",
    "    Loss =- torch.mean((probs_for_actions/old_probs_for_actions)*cummulative_returns)\n",
    "    \n",
    "    assert Loss.shape == torch.Size([])\n",
    "    return Loss"
   ]
  },
  {
   "cell_type": "markdown",
   "metadata": {},
   "source": [
    "We can ascend these gradients as long as our $pi_\\theta(a|s)$ satisfies the constraint\n",
    "$$E_{s,\\pi_{\\Theta_{t}}}\\Big[KL(\\pi(\\Theta_{t}, s) \\:||\\:\\pi(\\Theta_{t+1}, s))\\Big]< \\alpha$$\n",
    "\n",
    "\n",
    "where\n",
    "\n",
    "$$KL(p||q) = E _p log({p \\over q})$$"
   ]
  },
  {
   "cell_type": "code",
   "execution_count": 19,
   "metadata": {
    "ExecuteTime": {
     "end_time": "2019-09-29T14:58:45.883244Z",
     "start_time": "2019-09-29T14:58:45.876262Z"
    }
   },
   "outputs": [],
   "source": [
    "def get_kl(agent, observations, actions, cummulative_returns, old_probs):\n",
    "    \"\"\"\n",
    "    Computes KL-divergence between network policy and old policy\n",
    "    :param: observations - batch of observations\n",
    "    :param: actions - batch of actions\n",
    "    :param: cummulative_returns - batch of cummulative returns (we don't need it actually)\n",
    "    :param: old_probs - batch of probabilities computed by old network\n",
    "    :returns: scalar value of the KL-divergence\n",
    "    \"\"\"\n",
    "    batch_size = observations.shape[0]\n",
    "    log_probs_all = agent.get_log_probs(observations)\n",
    "    probs_all = torch.exp(log_probs_all)\n",
    "\n",
    "    # Compute Kullback-Leibler divergence (see formula above)\n",
    "    # Note: you need to sum KL and entropy over all actions, not just the ones agent took\n",
    "    old_log_probs = torch.log(old_probs+1e-10)\n",
    "\n",
    "    kl = torch.sum(probs_all*(log_probs_all-old_log_probs))\n",
    "\n",
    "    assert kl.shape == torch.Size([])\n",
    "    assert (kl > -0.0001).all() and (kl < 10000).all()\n",
    "    return kl"
   ]
  },
  {
   "cell_type": "code",
   "execution_count": 20,
   "metadata": {
    "ExecuteTime": {
     "end_time": "2019-09-29T14:58:46.930079Z",
     "start_time": "2019-09-29T14:58:46.924062Z"
    }
   },
   "outputs": [],
   "source": [
    "def get_entropy(agent, observations):\n",
    "    \"\"\"\n",
    "    Computes entropy of the network policy \n",
    "    :param: observations - batch of observations\n",
    "    :returns: scalar value of the entropy\n",
    "    \"\"\"\n",
    "\n",
    "    observations = Variable(torch.FloatTensor(observations))\n",
    "\n",
    "    batch_size = observations.shape[0]\n",
    "    log_probs_all = agent.get_log_probs(observations)\n",
    "    probs_all = torch.exp(log_probs_all)\n",
    "\n",
    "    entropy = torch.sum(-probs_all * log_probs_all) / batch_size\n",
    "\n",
    "    assert entropy.shape == torch.Size([])\n",
    "    return entropy"
   ]
  },
  {
   "cell_type": "markdown",
   "metadata": {},
   "source": [
    "**Linear search**\n",
    "\n",
    "TRPO in its core involves ascending surrogate policy gradient constrained by KL divergence. \n",
    "\n",
    "In order to enforce this constraint, we're gonna use linesearch. You can find out more about it [here](https://en.wikipedia.org/wiki/Linear_search)"
   ]
  },
  {
   "cell_type": "code",
   "execution_count": 22,
   "metadata": {
    "ExecuteTime": {
     "end_time": "2019-09-29T15:03:04.142549Z",
     "start_time": "2019-09-29T15:03:04.133573Z"
    }
   },
   "outputs": [],
   "source": [
    "def linesearch(f, x, fullstep, max_kl):\n",
    "    \"\"\"\n",
    "    Linesearch finds the best parameters of neural networks in the direction of fullstep contrainted by KL divergence.\n",
    "    :param: f - function that returns loss, kl and arbitrary third component.\n",
    "    :param: x - old parameters of neural network.\n",
    "    :param: fullstep - direction in which we make search.\n",
    "    :param: max_kl - constraint of KL divergence.\n",
    "    :returns:\n",
    "    \"\"\"\n",
    "    max_backtracks = 10\n",
    "    loss, _, = f(x)\n",
    "    for stepfrac in .5**np.arange(max_backtracks):\n",
    "        xnew = x + stepfrac * fullstep\n",
    "        new_loss, kl = f(xnew)\n",
    "        actual_improve = new_loss - loss\n",
    "        if kl.data.numpy() <= max_kl and actual_improve.data.numpy() < 0:\n",
    "            x = xnew\n",
    "            loss = new_loss\n",
    "    return x"
   ]
  },
  {
   "cell_type": "markdown",
   "metadata": {},
   "source": [
    "**Conjugate gradients**\n",
    "\n",
    "Since TRPO includes contrainted optimization, we will need to solve Ax=b using conjugate gradients.\n",
    "\n",
    "In general, CG is an algorithm that solves Ax=b where A is positive-defined. A is Hessian matrix so A is positive-defined. You can find out more about them [here](https://en.wikipedia.org/wiki/Conjugate_gradient_method)"
   ]
  },
  {
   "cell_type": "code",
   "execution_count": 23,
   "metadata": {
    "ExecuteTime": {
     "end_time": "2019-09-29T15:03:28.805114Z",
     "start_time": "2019-09-29T15:03:28.797130Z"
    }
   },
   "outputs": [],
   "source": [
    "from numpy.linalg import inv\n",
    "\n",
    "\n",
    "def conjugate_gradient(f_Ax, b, cg_iters=10, residual_tol=1e-10):\n",
    "    \"\"\"\n",
    "    This method solves system of equation Ax=b using iterative method called conjugate gradients\n",
    "    :f_Ax: function that returns Ax\n",
    "    :b: targets for Ax\n",
    "    :cg_iters: how many iterations this method should do\n",
    "    :residual_tol: epsilon for stability\n",
    "    \"\"\"\n",
    "    p = b.clone()\n",
    "    r = b.clone()\n",
    "    x = torch.zeros(b.size())\n",
    "    rdotr = torch.sum(r*r)\n",
    "    for i in range(cg_iters):\n",
    "        z = f_Ax(p)\n",
    "        v = rdotr / (torch.sum(p*z) + 1e-8)\n",
    "        x += v * p\n",
    "        r -= v * z\n",
    "        newrdotr = torch.sum(r*r)\n",
    "        mu = newrdotr / (rdotr + 1e-8)\n",
    "        p = r + mu * p\n",
    "        rdotr = newrdotr\n",
    "        if rdotr < residual_tol:\n",
    "            break\n",
    "    return x"
   ]
  },
  {
   "cell_type": "code",
   "execution_count": 24,
   "metadata": {
    "ExecuteTime": {
     "end_time": "2019-09-29T15:05:25.035149Z",
     "start_time": "2019-09-29T15:05:25.017223Z"
    }
   },
   "outputs": [
    {
     "name": "stdout",
     "output_type": "stream",
     "text": [
      "[ 29.67325607  14.84181352 -31.59689672 -16.44631166  -3.92720971\n",
      "  42.85296587  -1.6061961  -21.99873348]\n",
      "[ 29.673445   14.84288   -31.597013  -16.446798   -3.928297   42.851337\n",
      "  -1.6041621 -21.997646 ]\n"
     ]
    }
   ],
   "source": [
    "# This code validates conjugate gradients\n",
    "A = np.random.rand(8, 8)\n",
    "A = np.matmul(np.transpose(A), A)\n",
    "\n",
    "\n",
    "def f_Ax(x):\n",
    "    return torch.matmul(torch.FloatTensor(A), x.view((-1, 1))).view(-1)\n",
    "\n",
    "\n",
    "b = np.random.rand(8)\n",
    "\n",
    "w = np.matmul(np.matmul(inv(np.matmul(np.transpose(A), A)),\n",
    "                        np.transpose(A)), b.reshape((-1, 1))).reshape(-1)\n",
    "print(w)\n",
    "print(conjugate_gradient(f_Ax, torch.FloatTensor(b)).numpy())"
   ]
  },
  {
   "cell_type": "markdown",
   "metadata": {},
   "source": [
    "### Step 4: training\n",
    "In this section we construct the whole update step function."
   ]
  },
  {
   "cell_type": "code",
   "execution_count": 25,
   "metadata": {
    "ExecuteTime": {
     "end_time": "2019-09-29T15:06:22.239381Z",
     "start_time": "2019-09-29T15:06:22.224404Z"
    }
   },
   "outputs": [],
   "source": [
    "def update_step(agent, observations, actions, cummulative_returns, old_probs, max_kl):\n",
    "    \"\"\"\n",
    "    This function does the TRPO update step\n",
    "    :param: observations - batch of observations\n",
    "    :param: actions - batch of actions\n",
    "    :param: cummulative_returns - batch of cummulative returns\n",
    "    :param: old_probs - batch of probabilities computed by old network\n",
    "    :param: max_kl - controls how big KL divergence may be between old and new policy every step.\n",
    "    :returns: KL between new and old policies and the value of the loss function.\n",
    "    \"\"\"\n",
    "\n",
    "    # Here we prepare the information\n",
    "    observations = Variable(torch.FloatTensor(observations))\n",
    "    actions = torch.LongTensor(actions)\n",
    "    cummulative_returns = Variable(torch.FloatTensor(cummulative_returns))\n",
    "    old_probs = Variable(torch.FloatTensor(old_probs))\n",
    "\n",
    "    # Here we compute gradient of the loss function\n",
    "    loss = get_loss(agent, observations, actions,\n",
    "                    cummulative_returns, old_probs)\n",
    "    grads = torch.autograd.grad(loss, agent.parameters())\n",
    "    loss_grad = torch.cat([grad.view(-1) for grad in grads]).data\n",
    "\n",
    "    def Fvp(v):\n",
    "        # Here we compute Fx to do solve Fx = g using conjugate gradients\n",
    "        # We actually do here a couple of tricks to compute it efficiently\n",
    "\n",
    "        kl = get_kl(agent, observations, actions,\n",
    "                    cummulative_returns, old_probs)\n",
    "\n",
    "        grads = torch.autograd.grad(kl, agent.parameters(), create_graph=True)\n",
    "        flat_grad_kl = torch.cat([grad.view(-1) for grad in grads])\n",
    "\n",
    "        kl_v = (flat_grad_kl * Variable(v)).sum()\n",
    "        grads = torch.autograd.grad(kl_v, agent.parameters())\n",
    "        flat_grad_grad_kl = torch.cat(\n",
    "            [grad.contiguous().view(-1) for grad in grads]).data\n",
    "\n",
    "        return flat_grad_grad_kl + v * 0.1\n",
    "\n",
    "    # Here we solveolve Fx = g system using conjugate gradients\n",
    "    stepdir = conjugate_gradient(Fvp, -loss_grad, 10)\n",
    "\n",
    "    # Here we compute the initial vector to do linear search\n",
    "    shs = 0.5 * (stepdir * Fvp(stepdir)).sum(0, keepdim=True)\n",
    "\n",
    "    lm = torch.sqrt(shs / max_kl)\n",
    "    fullstep = stepdir / lm[0]\n",
    "\n",
    "    neggdotstepdir = (-loss_grad * stepdir).sum(0, keepdim=True)\n",
    "\n",
    "    # Here we get the start point\n",
    "    prev_params = get_flat_params_from(agent)\n",
    "\n",
    "    def get_loss_kl(params):\n",
    "        # Helper for linear search\n",
    "        set_flat_params_to(agent, params)\n",
    "        return [get_loss(agent, observations, actions, cummulative_returns, old_probs),\n",
    "                get_kl(agent, observations, actions, cummulative_returns, old_probs)]\n",
    "\n",
    "    # Here we find our new parameters\n",
    "    new_params = linesearch(get_loss_kl, prev_params, fullstep, max_kl)\n",
    "\n",
    "    # And we set it to our network\n",
    "    set_flat_params_to(agent, new_params)\n",
    "\n",
    "    return get_loss_kl(new_params)"
   ]
  },
  {
   "cell_type": "markdown",
   "metadata": {},
   "source": [
    "##### Step 5: Main TRPO loop\n",
    "\n",
    "Here we will train our network!"
   ]
  },
  {
   "cell_type": "code",
   "execution_count": 26,
   "metadata": {
    "ExecuteTime": {
     "end_time": "2019-09-29T15:21:52.488808Z",
     "start_time": "2019-09-29T15:06:30.638711Z"
    }
   },
   "outputs": [
    {
     "name": "stdout",
     "output_type": "stream",
     "text": [
      "\n",
      "********** Iteration 1 ************\n",
      "Rollout\n",
      "Made rollout\n",
      "Total number of episodes:                 101\n",
      "Average sum of rewards per episode:       -495.03960396039605\n",
      "Std of rewards per episode:               45.41337544325552\n",
      "Time elapsed:                             0.43 mins\n",
      "KL between old and new distribution:      0.009953799\n",
      "Entropy:                                  1.0956498\n",
      "Surrogate loss:                           250.09084\n",
      "\n",
      "********** Iteration 2 ************\n",
      "Rollout\n",
      "Made rollout\n",
      "Total number of episodes:                 202\n",
      "Average sum of rewards per episode:       -495.03960396039605\n",
      "Std of rewards per episode:               37.34715936606745\n",
      "Time elapsed:                             0.81 mins\n",
      "KL between old and new distribution:      0.009883374\n",
      "Entropy:                                  1.0957186\n",
      "Surrogate loss:                           249.41676\n",
      "\n",
      "********** Iteration 3 ************\n",
      "Rollout\n",
      "Made rollout\n",
      "Total number of episodes:                 303\n",
      "Average sum of rewards per episode:       -495.029702970297\n",
      "Std of rewards per episode:               35.49800034684552\n",
      "Time elapsed:                             1.20 mins\n",
      "KL between old and new distribution:      0.00994861\n",
      "Entropy:                                  1.0956472\n",
      "Surrogate loss:                           249.27048\n",
      "\n",
      "********** Iteration 4 ************\n",
      "Rollout\n",
      "Made rollout\n",
      "Total number of episodes:                 404\n",
      "Average sum of rewards per episode:       -494.990099009901\n",
      "Std of rewards per episode:               22.81587733149963\n",
      "Time elapsed:                             1.59 mins\n",
      "KL between old and new distribution:      0.009997394\n",
      "Entropy:                                  1.0957206\n",
      "Surrogate loss:                           248.48366\n",
      "\n",
      "********** Iteration 5 ************\n",
      "Rollout\n",
      "Made rollout\n",
      "Total number of episodes:                 505\n",
      "Average sum of rewards per episode:       -495.03960396039605\n",
      "Std of rewards per episode:               38.38056459273383\n",
      "Time elapsed:                             1.97 mins\n",
      "KL between old and new distribution:      0.009976106\n",
      "Entropy:                                  1.0956994\n",
      "Surrogate loss:                           249.49577\n",
      "\n",
      "********** Iteration 6 ************\n",
      "Rollout\n",
      "Made rollout\n",
      "Total number of episodes:                 606\n",
      "Average sum of rewards per episode:       -495.03960396039605\n",
      "Std of rewards per episode:               39.836279000373864\n",
      "Time elapsed:                             2.32 mins\n",
      "KL between old and new distribution:      0.009952752\n",
      "Entropy:                                  1.0957236\n",
      "Surrogate loss:                           249.61143\n",
      "\n",
      "********** Iteration 7 ************\n",
      "Rollout\n",
      "Made rollout\n",
      "Total number of episodes:                 707\n",
      "Average sum of rewards per episode:       -495.019801980198\n",
      "Std of rewards per episode:               30.561083192540515\n",
      "Time elapsed:                             2.62 mins\n",
      "KL between old and new distribution:      0.009989914\n",
      "Entropy:                                  1.0956745\n",
      "Surrogate loss:                           248.93146\n",
      "\n",
      "********** Iteration 8 ************\n",
      "Rollout\n",
      "Made rollout\n",
      "Total number of episodes:                 808\n",
      "Average sum of rewards per episode:       -495.03960396039605\n",
      "Std of rewards per episode:               46.41908125753511\n",
      "Time elapsed:                             2.92 mins\n",
      "KL between old and new distribution:      0.009957461\n",
      "Entropy:                                  1.0957196\n",
      "Surrogate loss:                           250.18474\n",
      "\n",
      "********** Iteration 9 ************\n",
      "Rollout\n",
      "Made rollout\n",
      "Total number of episodes:                 909\n",
      "Average sum of rewards per episode:       -495.029702970297\n",
      "Std of rewards per episode:               34.83865369099216\n",
      "Time elapsed:                             3.22 mins\n",
      "KL between old and new distribution:      0.009938234\n",
      "Entropy:                                  1.0956695\n",
      "Surrogate loss:                           249.22379\n",
      "\n",
      "********** Iteration 10 ************\n",
      "Rollout\n",
      "Made rollout\n",
      "Total number of episodes:                 1010\n",
      "Average sum of rewards per episode:       -495.019801980198\n",
      "Std of rewards per episode:               32.072313157112895\n",
      "Time elapsed:                             3.52 mins\n",
      "KL between old and new distribution:      0.009994871\n",
      "Entropy:                                  1.0957056\n",
      "Surrogate loss:                           249.02724\n",
      "\n",
      "********** Iteration 11 ************\n",
      "Rollout\n",
      "Made rollout\n",
      "Total number of episodes:                 1111\n",
      "Average sum of rewards per episode:       -495.019801980198\n",
      "Std of rewards per episode:               41.245937141176185\n",
      "Time elapsed:                             3.82 mins\n",
      "KL between old and new distribution:      0.009932937\n",
      "Entropy:                                  1.0957136\n",
      "Surrogate loss:                           249.7064\n",
      "\n",
      "********** Iteration 12 ************\n",
      "Rollout\n",
      "Made rollout\n",
      "Total number of episodes:                 1212\n",
      "Average sum of rewards per episode:       -495.03960396039605\n",
      "Std of rewards per episode:               41.41791853872882\n",
      "Time elapsed:                             4.13 mins\n",
      "KL between old and new distribution:      0.009946234\n",
      "Entropy:                                  1.0957388\n",
      "Surrogate loss:                           249.74062\n",
      "\n",
      "********** Iteration 13 ************\n",
      "Rollout\n",
      "Made rollout\n",
      "Total number of episodes:                 1314\n",
      "Average sum of rewards per episode:       -490.15686274509807\n",
      "Std of rewards per episode:               53.98760662030689\n",
      "Time elapsed:                             4.43 mins\n",
      "KL between old and new distribution:      0.009979419\n",
      "Entropy:                                  1.0957309\n",
      "Surrogate loss:                           248.52414\n",
      "\n",
      "********** Iteration 14 ************\n",
      "Rollout\n",
      "Made rollout\n",
      "Total number of episodes:                 1415\n",
      "Average sum of rewards per episode:       -495.03960396039605\n",
      "Std of rewards per episode:               49.205554059864035\n",
      "Time elapsed:                             4.79 mins\n",
      "KL between old and new distribution:      0.009962253\n",
      "Entropy:                                  1.0957198\n",
      "Surrogate loss:                           250.45383\n",
      "\n",
      "********** Iteration 15 ************\n",
      "Rollout\n",
      "Made rollout\n",
      "Total number of episodes:                 1516\n",
      "Average sum of rewards per episode:       -495.009900990099\n",
      "Std of rewards per episode:               26.323762953457113\n",
      "Time elapsed:                             5.16 mins\n",
      "KL between old and new distribution:      0.009945587\n",
      "Entropy:                                  1.0956913\n",
      "Surrogate loss:                           248.67854\n",
      "\n",
      "********** Iteration 16 ************\n",
      "Rollout\n",
      "Made rollout\n",
      "Total number of episodes:                 1617\n",
      "Average sum of rewards per episode:       -495.029702970297\n",
      "Std of rewards per episode:               47.15478104242769\n",
      "Time elapsed:                             5.54 mins\n",
      "KL between old and new distribution:      0.009983162\n",
      "Entropy:                                  1.0957159\n",
      "Surrogate loss:                           250.2442\n",
      "\n",
      "********** Iteration 17 ************\n",
      "Rollout\n",
      "Made rollout\n",
      "Total number of episodes:                 1718\n",
      "Average sum of rewards per episode:       -495.03960396039605\n",
      "Std of rewards per episode:               40.895888290280155\n",
      "Time elapsed:                             5.92 mins\n",
      "KL between old and new distribution:      0.009954888\n",
      "Entropy:                                  1.0957432\n",
      "Surrogate loss:                           249.69743\n",
      "\n",
      "********** Iteration 18 ************\n",
      "Rollout\n",
      "Made rollout\n",
      "Total number of episodes:                 1819\n",
      "Average sum of rewards per episode:       -495.019801980198\n",
      "Std of rewards per episode:               30.527371324121376\n",
      "Time elapsed:                             6.30 mins\n",
      "KL between old and new distribution:      0.009993546\n",
      "Entropy:                                  1.0957453\n",
      "Surrogate loss:                           248.92882\n",
      "\n",
      "********** Iteration 19 ************\n",
      "Rollout\n",
      "Made rollout\n",
      "Total number of episodes:                 1920\n",
      "Average sum of rewards per episode:       -495.03960396039605\n",
      "Std of rewards per episode:               42.75370884081442\n",
      "Time elapsed:                             6.68 mins\n",
      "KL between old and new distribution:      0.00991522\n"
     ]
    },
    {
     "name": "stdout",
     "output_type": "stream",
     "text": [
      "Entropy:                                  1.095691\n",
      "Surrogate loss:                           249.85448\n",
      "\n",
      "********** Iteration 20 ************\n",
      "Rollout\n",
      "Made rollout\n",
      "Total number of episodes:                 2021\n",
      "Average sum of rewards per episode:       -495.029702970297\n",
      "Std of rewards per episode:               43.159261926158834\n",
      "Time elapsed:                             7.03 mins\n",
      "KL between old and new distribution:      0.009947894\n",
      "Entropy:                                  1.0956917\n",
      "Surrogate loss:                           249.87907\n",
      "\n",
      "********** Iteration 21 ************\n",
      "Rollout\n",
      "Made rollout\n",
      "Total number of episodes:                 2121\n",
      "Average sum of rewards per episode:       -500.0\n",
      "Std of rewards per episode:               0.0\n",
      "Time elapsed:                             7.35 mins\n",
      "KL between old and new distribution:      0.009974069\n",
      "Entropy:                                  1.0956682\n",
      "Surrogate loss:                           250.49268\n",
      "\n",
      "********** Iteration 22 ************\n",
      "Rollout\n",
      "Made rollout\n",
      "Total number of episodes:                 2222\n",
      "Average sum of rewards per episode:       -495.029702970297\n",
      "Std of rewards per episode:               46.40532903964921\n",
      "Time elapsed:                             7.64 mins\n",
      "KL between old and new distribution:      0.009981586\n",
      "Entropy:                                  1.0957325\n",
      "Surrogate loss:                           250.17207\n",
      "\n",
      "********** Iteration 23 ************\n",
      "Rollout\n",
      "Made rollout\n",
      "Total number of episodes:                 2322\n",
      "Average sum of rewards per episode:       -500.0\n",
      "Std of rewards per episode:               0.0\n",
      "Time elapsed:                             7.94 mins\n",
      "KL between old and new distribution:      0.009851437\n",
      "Entropy:                                  1.095674\n",
      "Surrogate loss:                           250.49371\n",
      "\n",
      "********** Iteration 24 ************\n",
      "Rollout\n",
      "Made rollout\n",
      "Total number of episodes:                 2423\n",
      "Average sum of rewards per episode:       -495.029702970297\n",
      "Std of rewards per episode:               29.291114945717897\n",
      "Time elapsed:                             8.25 mins\n",
      "KL between old and new distribution:      0.009996736\n",
      "Entropy:                                  1.0956494\n",
      "Surrogate loss:                           248.86427\n",
      "\n",
      "********** Iteration 25 ************\n",
      "Rollout\n",
      "Made rollout\n",
      "Total number of episodes:                 2523\n",
      "Average sum of rewards per episode:       -500.0\n",
      "Std of rewards per episode:               0.0\n",
      "Time elapsed:                             8.56 mins\n",
      "KL between old and new distribution:      0.00998725\n",
      "Entropy:                                  1.0957103\n",
      "Surrogate loss:                           250.49329\n",
      "\n",
      "********** Iteration 26 ************\n",
      "Rollout\n",
      "Made rollout\n",
      "Total number of episodes:                 2624\n",
      "Average sum of rewards per episode:       -495.03960396039605\n",
      "Std of rewards per episode:               40.74988204856384\n",
      "Time elapsed:                             8.91 mins\n",
      "KL between old and new distribution:      0.009982267\n",
      "Entropy:                                  1.0957044\n",
      "Surrogate loss:                           249.6859\n",
      "\n",
      "********** Iteration 27 ************\n",
      "Rollout\n",
      "Made rollout\n",
      "Total number of episodes:                 2724\n",
      "Average sum of rewards per episode:       -500.0\n",
      "Std of rewards per episode:               0.0\n",
      "Time elapsed:                             9.28 mins\n",
      "KL between old and new distribution:      0.009984607\n",
      "Entropy:                                  1.0957538\n",
      "Surrogate loss:                           250.49228\n",
      "\n",
      "********** Iteration 28 ************\n",
      "Rollout\n",
      "Made rollout\n",
      "Total number of episodes:                 2824\n",
      "Average sum of rewards per episode:       -500.0\n",
      "Std of rewards per episode:               0.0\n",
      "Time elapsed:                             9.66 mins\n",
      "KL between old and new distribution:      0.009964917\n",
      "Entropy:                                  1.0957338\n",
      "Surrogate loss:                           250.49312\n",
      "\n",
      "********** Iteration 29 ************\n",
      "Rollout\n",
      "Made rollout\n",
      "Total number of episodes:                 2925\n",
      "Average sum of rewards per episode:       -495.03960396039605\n",
      "Std of rewards per episode:               49.30485502012985\n",
      "Time elapsed:                             10.03 mins\n",
      "KL between old and new distribution:      0.009971181\n",
      "Entropy:                                  1.0956693\n",
      "Surrogate loss:                           250.46371\n",
      "\n",
      "********** Iteration 30 ************\n",
      "Rollout\n",
      "Made rollout\n",
      "Total number of episodes:                 3027\n",
      "Average sum of rewards per episode:       -490.12745098039215\n",
      "Std of rewards per episode:               51.339445441184715\n",
      "Time elapsed:                             10.40 mins\n",
      "KL between old and new distribution:      0.009918444\n",
      "Entropy:                                  1.0955868\n",
      "Surrogate loss:                           248.21172\n",
      "\n",
      "********** Iteration 31 ************\n",
      "Rollout\n",
      "Made rollout\n",
      "Total number of episodes:                 3128\n",
      "Average sum of rewards per episode:       -495.03960396039605\n",
      "Std of rewards per episode:               43.581702217329514\n",
      "Time elapsed:                             10.77 mins\n",
      "KL between old and new distribution:      0.0099293925\n",
      "Entropy:                                  1.0956749\n",
      "Surrogate loss:                           249.92584\n",
      "\n",
      "********** Iteration 32 ************\n",
      "Rollout\n",
      "Made rollout\n",
      "Total number of episodes:                 3228\n",
      "Average sum of rewards per episode:       -500.0\n",
      "Std of rewards per episode:               0.0\n",
      "Time elapsed:                             11.15 mins\n",
      "KL between old and new distribution:      0.009964674\n",
      "Entropy:                                  1.0956656\n",
      "Surrogate loss:                           250.49318\n",
      "\n",
      "********** Iteration 33 ************\n",
      "Rollout\n",
      "Made rollout\n",
      "Total number of episodes:                 3328\n",
      "Average sum of rewards per episode:       -500.0\n",
      "Std of rewards per episode:               0.0\n",
      "Time elapsed:                             11.54 mins\n",
      "KL between old and new distribution:      0.009982061\n",
      "Entropy:                                  1.095672\n",
      "Surrogate loss:                           250.49266\n",
      "\n",
      "********** Iteration 34 ************\n",
      "Rollout\n",
      "Made rollout\n",
      "Total number of episodes:                 3429\n",
      "Average sum of rewards per episode:       -495.029702970297\n",
      "Std of rewards per episode:               39.589341361239185\n",
      "Time elapsed:                             11.94 mins\n",
      "KL between old and new distribution:      0.009891221\n",
      "Entropy:                                  1.0956718\n",
      "Surrogate loss:                           249.58176\n",
      "\n",
      "********** Iteration 35 ************\n",
      "Rollout\n",
      "Made rollout\n",
      "Total number of episodes:                 3530\n",
      "Average sum of rewards per episode:       -495.019801980198\n",
      "Std of rewards per episode:               37.736181707504244\n",
      "Time elapsed:                             12.31 mins\n",
      "KL between old and new distribution:      0.009978699\n",
      "Entropy:                                  1.0956421\n",
      "Surrogate loss:                           249.42696\n",
      "\n",
      "********** Iteration 36 ************\n",
      "Rollout\n",
      "Made rollout\n",
      "Total number of episodes:                 3631\n",
      "Average sum of rewards per episode:       -495.029702970297\n",
      "Std of rewards per episode:               39.04236222907913\n",
      "Time elapsed:                             12.68 mins\n",
      "KL between old and new distribution:      0.009976033\n",
      "Entropy:                                  1.0956355\n",
      "Surrogate loss:                           249.5375\n",
      "\n",
      "********** Iteration 37 ************\n",
      "Rollout\n",
      "Made rollout\n",
      "Total number of episodes:                 3732\n",
      "Average sum of rewards per episode:       -495.019801980198\n",
      "Std of rewards per episode:               35.93392731993061\n",
      "Time elapsed:                             13.05 mins\n",
      "KL between old and new distribution:      0.0099475\n",
      "Entropy:                                  1.0956643\n",
      "Surrogate loss:                           249.29204\n",
      "\n",
      "********** Iteration 38 ************\n",
      "Rollout\n",
      "Made rollout\n",
      "Total number of episodes:                 3833\n",
      "Average sum of rewards per episode:       -495.03960396039605\n",
      "Std of rewards per episode:               43.08130025343154\n",
      "Time elapsed:                             13.42 mins\n",
      "KL between old and new distribution:      0.009955481\n",
      "Entropy:                                  1.0956726\n"
     ]
    },
    {
     "name": "stdout",
     "output_type": "stream",
     "text": [
      "Surrogate loss:                           249.88176\n",
      "\n",
      "********** Iteration 39 ************\n",
      "Rollout\n",
      "Made rollout\n",
      "Total number of episodes:                 3934\n",
      "Average sum of rewards per episode:       -495.009900990099\n",
      "Std of rewards per episode:               25.80716572893068\n",
      "Time elapsed:                             13.80 mins\n",
      "KL between old and new distribution:      0.00995514\n",
      "Entropy:                                  1.095655\n",
      "Surrogate loss:                           248.65102\n",
      "\n",
      "********** Iteration 40 ************\n",
      "Rollout\n",
      "Made rollout\n",
      "Total number of episodes:                 4035\n",
      "Average sum of rewards per episode:       -495.029702970297\n",
      "Std of rewards per episode:               36.10859732670147\n",
      "Time elapsed:                             14.17 mins\n",
      "KL between old and new distribution:      0.009959861\n",
      "Entropy:                                  1.0956528\n",
      "Surrogate loss:                           249.3145\n",
      "\n",
      "********** Iteration 41 ************\n",
      "Rollout\n",
      "Made rollout\n",
      "Total number of episodes:                 4135\n",
      "Average sum of rewards per episode:       -500.0\n",
      "Std of rewards per episode:               0.0\n",
      "Time elapsed:                             14.49 mins\n",
      "KL between old and new distribution:      0.00994127\n",
      "Entropy:                                  1.0956731\n",
      "Surrogate loss:                           250.49329\n",
      "\n",
      "********** Iteration 42 ************\n",
      "Rollout\n",
      "Made rollout\n",
      "Total number of episodes:                 4236\n",
      "Average sum of rewards per episode:       -495.019801980198\n",
      "Std of rewards per episode:               40.70005721601053\n",
      "Time elapsed:                             14.80 mins\n",
      "KL between old and new distribution:      0.0099622235\n",
      "Entropy:                                  1.095659\n",
      "Surrogate loss:                           249.66064\n",
      "\n",
      "********** Iteration 43 ************\n",
      "Rollout\n",
      "Made rollout\n",
      "Total number of episodes:                 4337\n",
      "Average sum of rewards per episode:       -495.019801980198\n",
      "Std of rewards per episode:               27.9029364997185\n",
      "Time elapsed:                             15.17 mins\n",
      "KL between old and new distribution:      0.009845962\n",
      "Entropy:                                  1.0956255\n",
      "Surrogate loss:                           248.77547\n",
      "\n",
      "********** Iteration 44 ************\n",
      "Rollout\n"
     ]
    },
    {
     "ename": "KeyboardInterrupt",
     "evalue": "",
     "output_type": "error",
     "traceback": [
      "\u001b[1;31m---------------------------------------------------------------------------\u001b[0m",
      "\u001b[1;31mKeyboardInterrupt\u001b[0m                         Traceback (most recent call last)",
      "\u001b[1;32m<ipython-input-26-4e6dbda4efe8>\u001b[0m in \u001b[0;36m<module>\u001b[1;34m\u001b[0m\n\u001b[0;32m     15\u001b[0m     \u001b[1;31m# Generating paths.\u001b[0m\u001b[1;33m\u001b[0m\u001b[1;33m\u001b[0m\u001b[1;33m\u001b[0m\u001b[0m\n\u001b[0;32m     16\u001b[0m     \u001b[0mprint\u001b[0m\u001b[1;33m(\u001b[0m\u001b[1;34m\"Rollout\"\u001b[0m\u001b[1;33m)\u001b[0m\u001b[1;33m\u001b[0m\u001b[1;33m\u001b[0m\u001b[0m\n\u001b[1;32m---> 17\u001b[1;33m     \u001b[0mpaths\u001b[0m \u001b[1;33m=\u001b[0m \u001b[0mrollout\u001b[0m\u001b[1;33m(\u001b[0m\u001b[0menv\u001b[0m\u001b[1;33m,\u001b[0m \u001b[0magent\u001b[0m\u001b[1;33m)\u001b[0m\u001b[1;33m\u001b[0m\u001b[1;33m\u001b[0m\u001b[0m\n\u001b[0m\u001b[0;32m     18\u001b[0m     \u001b[0mprint\u001b[0m\u001b[1;33m(\u001b[0m\u001b[1;34m\"Made rollout\"\u001b[0m\u001b[1;33m)\u001b[0m\u001b[1;33m\u001b[0m\u001b[1;33m\u001b[0m\u001b[0m\n\u001b[0;32m     19\u001b[0m \u001b[1;33m\u001b[0m\u001b[0m\n",
      "\u001b[1;32m<ipython-input-16-1387065954a1>\u001b[0m in \u001b[0;36mrollout\u001b[1;34m(env, agent, max_pathlength, n_timesteps)\u001b[0m\n\u001b[0;32m     14\u001b[0m         \u001b[0mobervation\u001b[0m \u001b[1;33m=\u001b[0m \u001b[0menv\u001b[0m\u001b[1;33m.\u001b[0m\u001b[0mreset\u001b[0m\u001b[1;33m(\u001b[0m\u001b[1;33m)\u001b[0m\u001b[1;33m\u001b[0m\u001b[1;33m\u001b[0m\u001b[0m\n\u001b[0;32m     15\u001b[0m         \u001b[1;32mfor\u001b[0m \u001b[0m_\u001b[0m \u001b[1;32min\u001b[0m \u001b[0mrange\u001b[0m\u001b[1;33m(\u001b[0m\u001b[0mmax_pathlength\u001b[0m\u001b[1;33m)\u001b[0m\u001b[1;33m:\u001b[0m\u001b[1;33m\u001b[0m\u001b[1;33m\u001b[0m\u001b[0m\n\u001b[1;32m---> 16\u001b[1;33m             \u001b[0maction\u001b[0m\u001b[1;33m,\u001b[0m \u001b[0mpolicy\u001b[0m \u001b[1;33m=\u001b[0m \u001b[0magent\u001b[0m\u001b[1;33m.\u001b[0m\u001b[0mact\u001b[0m\u001b[1;33m(\u001b[0m\u001b[0mobervation\u001b[0m\u001b[1;33m)\u001b[0m\u001b[1;33m\u001b[0m\u001b[1;33m\u001b[0m\u001b[0m\n\u001b[0m\u001b[0;32m     17\u001b[0m             \u001b[0mobervations\u001b[0m\u001b[1;33m.\u001b[0m\u001b[0mappend\u001b[0m\u001b[1;33m(\u001b[0m\u001b[0mobervation\u001b[0m\u001b[1;33m)\u001b[0m\u001b[1;33m\u001b[0m\u001b[1;33m\u001b[0m\u001b[0m\n\u001b[0;32m     18\u001b[0m             \u001b[0mactions\u001b[0m\u001b[1;33m.\u001b[0m\u001b[0mappend\u001b[0m\u001b[1;33m(\u001b[0m\u001b[0maction\u001b[0m\u001b[1;33m)\u001b[0m\u001b[1;33m\u001b[0m\u001b[1;33m\u001b[0m\u001b[0m\n",
      "\u001b[1;32m<ipython-input-11-a03b94095c5b>\u001b[0m in \u001b[0;36mact\u001b[1;34m(self, obs, sample)\u001b[0m\n\u001b[0;32m     50\u001b[0m         '''\n\u001b[0;32m     51\u001b[0m \u001b[1;33m\u001b[0m\u001b[0m\n\u001b[1;32m---> 52\u001b[1;33m         \u001b[0mprobs\u001b[0m \u001b[1;33m=\u001b[0m \u001b[0mself\u001b[0m\u001b[1;33m.\u001b[0m\u001b[0mget_probs\u001b[0m\u001b[1;33m(\u001b[0m\u001b[0mVariable\u001b[0m\u001b[1;33m(\u001b[0m\u001b[0mtorch\u001b[0m\u001b[1;33m.\u001b[0m\u001b[0mFloatTensor\u001b[0m\u001b[1;33m(\u001b[0m\u001b[1;33m[\u001b[0m\u001b[0mobs\u001b[0m\u001b[1;33m]\u001b[0m\u001b[1;33m)\u001b[0m\u001b[1;33m)\u001b[0m\u001b[1;33m)\u001b[0m\u001b[1;33m.\u001b[0m\u001b[0mdata\u001b[0m\u001b[1;33m.\u001b[0m\u001b[0mnumpy\u001b[0m\u001b[1;33m(\u001b[0m\u001b[1;33m)\u001b[0m\u001b[1;33m\u001b[0m\u001b[1;33m\u001b[0m\u001b[0m\n\u001b[0m\u001b[0;32m     53\u001b[0m \u001b[1;33m\u001b[0m\u001b[0m\n\u001b[0;32m     54\u001b[0m         \u001b[1;32mif\u001b[0m \u001b[0msample\u001b[0m\u001b[1;33m:\u001b[0m\u001b[1;33m\u001b[0m\u001b[1;33m\u001b[0m\u001b[0m\n",
      "\u001b[1;32m<ipython-input-11-a03b94095c5b>\u001b[0m in \u001b[0;36mget_probs\u001b[1;34m(self, states)\u001b[0m\n\u001b[0;32m     40\u001b[0m         '''\n\u001b[0;32m     41\u001b[0m \u001b[1;33m\u001b[0m\u001b[0m\n\u001b[1;32m---> 42\u001b[1;33m         \u001b[1;32mreturn\u001b[0m \u001b[0mtorch\u001b[0m\u001b[1;33m.\u001b[0m\u001b[0mexp\u001b[0m\u001b[1;33m(\u001b[0m\u001b[0mself\u001b[0m\u001b[1;33m.\u001b[0m\u001b[0mforward\u001b[0m\u001b[1;33m(\u001b[0m\u001b[0mstates\u001b[0m\u001b[1;33m)\u001b[0m\u001b[1;33m)\u001b[0m\u001b[1;33m\u001b[0m\u001b[1;33m\u001b[0m\u001b[0m\n\u001b[0m\u001b[0;32m     43\u001b[0m \u001b[1;33m\u001b[0m\u001b[0m\n\u001b[0;32m     44\u001b[0m     \u001b[1;32mdef\u001b[0m \u001b[0mact\u001b[0m\u001b[1;33m(\u001b[0m\u001b[0mself\u001b[0m\u001b[1;33m,\u001b[0m \u001b[0mobs\u001b[0m\u001b[1;33m,\u001b[0m \u001b[0msample\u001b[0m\u001b[1;33m=\u001b[0m\u001b[1;32mTrue\u001b[0m\u001b[1;33m)\u001b[0m\u001b[1;33m:\u001b[0m\u001b[1;33m\u001b[0m\u001b[1;33m\u001b[0m\u001b[0m\n",
      "\u001b[1;32m<ipython-input-11-a03b94095c5b>\u001b[0m in \u001b[0;36mforward\u001b[1;34m(self, states)\u001b[0m\n\u001b[0;32m     25\u001b[0m \u001b[1;33m\u001b[0m\u001b[0m\n\u001b[0;32m     26\u001b[0m         \u001b[1;31m# Use your network to compute log_probs for given state\u001b[0m\u001b[1;33m\u001b[0m\u001b[1;33m\u001b[0m\u001b[1;33m\u001b[0m\u001b[0m\n\u001b[1;32m---> 27\u001b[1;33m         \u001b[0mlog_probs\u001b[0m \u001b[1;33m=\u001b[0m \u001b[0mself\u001b[0m\u001b[1;33m.\u001b[0m\u001b[0mmodel\u001b[0m\u001b[1;33m(\u001b[0m\u001b[0mstates\u001b[0m\u001b[1;33m)\u001b[0m\u001b[1;33m\u001b[0m\u001b[1;33m\u001b[0m\u001b[0m\n\u001b[0m\u001b[0;32m     28\u001b[0m         \u001b[1;32mreturn\u001b[0m \u001b[0mlog_probs\u001b[0m\u001b[1;33m\u001b[0m\u001b[1;33m\u001b[0m\u001b[0m\n\u001b[0;32m     29\u001b[0m \u001b[1;33m\u001b[0m\u001b[0m\n",
      "\u001b[1;32mD:\\anaconda3\\lib\\site-packages\\torch\\nn\\modules\\module.py\u001b[0m in \u001b[0;36m__call__\u001b[1;34m(self, *input, **kwargs)\u001b[0m\n\u001b[0;32m    545\u001b[0m             \u001b[0mresult\u001b[0m \u001b[1;33m=\u001b[0m \u001b[0mself\u001b[0m\u001b[1;33m.\u001b[0m\u001b[0m_slow_forward\u001b[0m\u001b[1;33m(\u001b[0m\u001b[1;33m*\u001b[0m\u001b[0minput\u001b[0m\u001b[1;33m,\u001b[0m \u001b[1;33m**\u001b[0m\u001b[0mkwargs\u001b[0m\u001b[1;33m)\u001b[0m\u001b[1;33m\u001b[0m\u001b[1;33m\u001b[0m\u001b[0m\n\u001b[0;32m    546\u001b[0m         \u001b[1;32melse\u001b[0m\u001b[1;33m:\u001b[0m\u001b[1;33m\u001b[0m\u001b[1;33m\u001b[0m\u001b[0m\n\u001b[1;32m--> 547\u001b[1;33m             \u001b[0mresult\u001b[0m \u001b[1;33m=\u001b[0m \u001b[0mself\u001b[0m\u001b[1;33m.\u001b[0m\u001b[0mforward\u001b[0m\u001b[1;33m(\u001b[0m\u001b[1;33m*\u001b[0m\u001b[0minput\u001b[0m\u001b[1;33m,\u001b[0m \u001b[1;33m**\u001b[0m\u001b[0mkwargs\u001b[0m\u001b[1;33m)\u001b[0m\u001b[1;33m\u001b[0m\u001b[1;33m\u001b[0m\u001b[0m\n\u001b[0m\u001b[0;32m    548\u001b[0m         \u001b[1;32mfor\u001b[0m \u001b[0mhook\u001b[0m \u001b[1;32min\u001b[0m \u001b[0mself\u001b[0m\u001b[1;33m.\u001b[0m\u001b[0m_forward_hooks\u001b[0m\u001b[1;33m.\u001b[0m\u001b[0mvalues\u001b[0m\u001b[1;33m(\u001b[0m\u001b[1;33m)\u001b[0m\u001b[1;33m:\u001b[0m\u001b[1;33m\u001b[0m\u001b[1;33m\u001b[0m\u001b[0m\n\u001b[0;32m    549\u001b[0m             \u001b[0mhook_result\u001b[0m \u001b[1;33m=\u001b[0m \u001b[0mhook\u001b[0m\u001b[1;33m(\u001b[0m\u001b[0mself\u001b[0m\u001b[1;33m,\u001b[0m \u001b[0minput\u001b[0m\u001b[1;33m,\u001b[0m \u001b[0mresult\u001b[0m\u001b[1;33m)\u001b[0m\u001b[1;33m\u001b[0m\u001b[1;33m\u001b[0m\u001b[0m\n",
      "\u001b[1;32mD:\\anaconda3\\lib\\site-packages\\torch\\nn\\modules\\container.py\u001b[0m in \u001b[0;36mforward\u001b[1;34m(self, input)\u001b[0m\n\u001b[0;32m     90\u001b[0m     \u001b[1;32mdef\u001b[0m \u001b[0mforward\u001b[0m\u001b[1;33m(\u001b[0m\u001b[0mself\u001b[0m\u001b[1;33m,\u001b[0m \u001b[0minput\u001b[0m\u001b[1;33m)\u001b[0m\u001b[1;33m:\u001b[0m\u001b[1;33m\u001b[0m\u001b[1;33m\u001b[0m\u001b[0m\n\u001b[0;32m     91\u001b[0m         \u001b[1;32mfor\u001b[0m \u001b[0mmodule\u001b[0m \u001b[1;32min\u001b[0m \u001b[0mself\u001b[0m\u001b[1;33m.\u001b[0m\u001b[0m_modules\u001b[0m\u001b[1;33m.\u001b[0m\u001b[0mvalues\u001b[0m\u001b[1;33m(\u001b[0m\u001b[1;33m)\u001b[0m\u001b[1;33m:\u001b[0m\u001b[1;33m\u001b[0m\u001b[1;33m\u001b[0m\u001b[0m\n\u001b[1;32m---> 92\u001b[1;33m             \u001b[0minput\u001b[0m \u001b[1;33m=\u001b[0m \u001b[0mmodule\u001b[0m\u001b[1;33m(\u001b[0m\u001b[0minput\u001b[0m\u001b[1;33m)\u001b[0m\u001b[1;33m\u001b[0m\u001b[1;33m\u001b[0m\u001b[0m\n\u001b[0m\u001b[0;32m     93\u001b[0m         \u001b[1;32mreturn\u001b[0m \u001b[0minput\u001b[0m\u001b[1;33m\u001b[0m\u001b[1;33m\u001b[0m\u001b[0m\n\u001b[0;32m     94\u001b[0m \u001b[1;33m\u001b[0m\u001b[0m\n",
      "\u001b[1;32mD:\\anaconda3\\lib\\site-packages\\torch\\nn\\modules\\module.py\u001b[0m in \u001b[0;36m__call__\u001b[1;34m(self, *input, **kwargs)\u001b[0m\n\u001b[0;32m    545\u001b[0m             \u001b[0mresult\u001b[0m \u001b[1;33m=\u001b[0m \u001b[0mself\u001b[0m\u001b[1;33m.\u001b[0m\u001b[0m_slow_forward\u001b[0m\u001b[1;33m(\u001b[0m\u001b[1;33m*\u001b[0m\u001b[0minput\u001b[0m\u001b[1;33m,\u001b[0m \u001b[1;33m**\u001b[0m\u001b[0mkwargs\u001b[0m\u001b[1;33m)\u001b[0m\u001b[1;33m\u001b[0m\u001b[1;33m\u001b[0m\u001b[0m\n\u001b[0;32m    546\u001b[0m         \u001b[1;32melse\u001b[0m\u001b[1;33m:\u001b[0m\u001b[1;33m\u001b[0m\u001b[1;33m\u001b[0m\u001b[0m\n\u001b[1;32m--> 547\u001b[1;33m             \u001b[0mresult\u001b[0m \u001b[1;33m=\u001b[0m \u001b[0mself\u001b[0m\u001b[1;33m.\u001b[0m\u001b[0mforward\u001b[0m\u001b[1;33m(\u001b[0m\u001b[1;33m*\u001b[0m\u001b[0minput\u001b[0m\u001b[1;33m,\u001b[0m \u001b[1;33m**\u001b[0m\u001b[0mkwargs\u001b[0m\u001b[1;33m)\u001b[0m\u001b[1;33m\u001b[0m\u001b[1;33m\u001b[0m\u001b[0m\n\u001b[0m\u001b[0;32m    548\u001b[0m         \u001b[1;32mfor\u001b[0m \u001b[0mhook\u001b[0m \u001b[1;32min\u001b[0m \u001b[0mself\u001b[0m\u001b[1;33m.\u001b[0m\u001b[0m_forward_hooks\u001b[0m\u001b[1;33m.\u001b[0m\u001b[0mvalues\u001b[0m\u001b[1;33m(\u001b[0m\u001b[1;33m)\u001b[0m\u001b[1;33m:\u001b[0m\u001b[1;33m\u001b[0m\u001b[1;33m\u001b[0m\u001b[0m\n\u001b[0;32m    549\u001b[0m             \u001b[0mhook_result\u001b[0m \u001b[1;33m=\u001b[0m \u001b[0mhook\u001b[0m\u001b[1;33m(\u001b[0m\u001b[0mself\u001b[0m\u001b[1;33m,\u001b[0m \u001b[0minput\u001b[0m\u001b[1;33m,\u001b[0m \u001b[0mresult\u001b[0m\u001b[1;33m)\u001b[0m\u001b[1;33m\u001b[0m\u001b[1;33m\u001b[0m\u001b[0m\n",
      "\u001b[1;32mD:\\anaconda3\\lib\\site-packages\\torch\\nn\\modules\\linear.py\u001b[0m in \u001b[0;36mforward\u001b[1;34m(self, input)\u001b[0m\n\u001b[0;32m     85\u001b[0m \u001b[1;33m\u001b[0m\u001b[0m\n\u001b[0;32m     86\u001b[0m     \u001b[1;32mdef\u001b[0m \u001b[0mforward\u001b[0m\u001b[1;33m(\u001b[0m\u001b[0mself\u001b[0m\u001b[1;33m,\u001b[0m \u001b[0minput\u001b[0m\u001b[1;33m)\u001b[0m\u001b[1;33m:\u001b[0m\u001b[1;33m\u001b[0m\u001b[1;33m\u001b[0m\u001b[0m\n\u001b[1;32m---> 87\u001b[1;33m         \u001b[1;32mreturn\u001b[0m \u001b[0mF\u001b[0m\u001b[1;33m.\u001b[0m\u001b[0mlinear\u001b[0m\u001b[1;33m(\u001b[0m\u001b[0minput\u001b[0m\u001b[1;33m,\u001b[0m \u001b[0mself\u001b[0m\u001b[1;33m.\u001b[0m\u001b[0mweight\u001b[0m\u001b[1;33m,\u001b[0m \u001b[0mself\u001b[0m\u001b[1;33m.\u001b[0m\u001b[0mbias\u001b[0m\u001b[1;33m)\u001b[0m\u001b[1;33m\u001b[0m\u001b[1;33m\u001b[0m\u001b[0m\n\u001b[0m\u001b[0;32m     88\u001b[0m \u001b[1;33m\u001b[0m\u001b[0m\n\u001b[0;32m     89\u001b[0m     \u001b[1;32mdef\u001b[0m \u001b[0mextra_repr\u001b[0m\u001b[1;33m(\u001b[0m\u001b[0mself\u001b[0m\u001b[1;33m)\u001b[0m\u001b[1;33m:\u001b[0m\u001b[1;33m\u001b[0m\u001b[1;33m\u001b[0m\u001b[0m\n",
      "\u001b[1;32mD:\\anaconda3\\lib\\site-packages\\torch\\nn\\functional.py\u001b[0m in \u001b[0;36mlinear\u001b[1;34m(input, weight, bias)\u001b[0m\n\u001b[0;32m   1367\u001b[0m     \u001b[1;32mif\u001b[0m \u001b[0minput\u001b[0m\u001b[1;33m.\u001b[0m\u001b[0mdim\u001b[0m\u001b[1;33m(\u001b[0m\u001b[1;33m)\u001b[0m \u001b[1;33m==\u001b[0m \u001b[1;36m2\u001b[0m \u001b[1;32mand\u001b[0m \u001b[0mbias\u001b[0m \u001b[1;32mis\u001b[0m \u001b[1;32mnot\u001b[0m \u001b[1;32mNone\u001b[0m\u001b[1;33m:\u001b[0m\u001b[1;33m\u001b[0m\u001b[1;33m\u001b[0m\u001b[0m\n\u001b[0;32m   1368\u001b[0m         \u001b[1;31m# fused op is marginally faster\u001b[0m\u001b[1;33m\u001b[0m\u001b[1;33m\u001b[0m\u001b[1;33m\u001b[0m\u001b[0m\n\u001b[1;32m-> 1369\u001b[1;33m         \u001b[0mret\u001b[0m \u001b[1;33m=\u001b[0m \u001b[0mtorch\u001b[0m\u001b[1;33m.\u001b[0m\u001b[0maddmm\u001b[0m\u001b[1;33m(\u001b[0m\u001b[0mbias\u001b[0m\u001b[1;33m,\u001b[0m \u001b[0minput\u001b[0m\u001b[1;33m,\u001b[0m \u001b[0mweight\u001b[0m\u001b[1;33m.\u001b[0m\u001b[0mt\u001b[0m\u001b[1;33m(\u001b[0m\u001b[1;33m)\u001b[0m\u001b[1;33m)\u001b[0m\u001b[1;33m\u001b[0m\u001b[1;33m\u001b[0m\u001b[0m\n\u001b[0m\u001b[0;32m   1370\u001b[0m     \u001b[1;32melse\u001b[0m\u001b[1;33m:\u001b[0m\u001b[1;33m\u001b[0m\u001b[1;33m\u001b[0m\u001b[0m\n\u001b[0;32m   1371\u001b[0m         \u001b[0moutput\u001b[0m \u001b[1;33m=\u001b[0m \u001b[0minput\u001b[0m\u001b[1;33m.\u001b[0m\u001b[0mmatmul\u001b[0m\u001b[1;33m(\u001b[0m\u001b[0mweight\u001b[0m\u001b[1;33m.\u001b[0m\u001b[0mt\u001b[0m\u001b[1;33m(\u001b[0m\u001b[1;33m)\u001b[0m\u001b[1;33m)\u001b[0m\u001b[1;33m\u001b[0m\u001b[1;33m\u001b[0m\u001b[0m\n",
      "\u001b[1;31mKeyboardInterrupt\u001b[0m: "
     ]
    }
   ],
   "source": [
    "import time\n",
    "from itertools import count\n",
    "from collections import OrderedDict\n",
    "\n",
    "# this is hyperparameter of TRPO. It controls how big KL divergence may be between old and new policy every step.\n",
    "max_kl = 0.01\n",
    "numeptotal = 0  # this is number of episodes that we played.\n",
    "\n",
    "start_time = time.time()\n",
    "\n",
    "for i in count(1):\n",
    "\n",
    "    print(\"\\n********** Iteration %i ************\" % i)\n",
    "\n",
    "    # Generating paths.\n",
    "    print(\"Rollout\")\n",
    "    paths = rollout(env, agent)\n",
    "    print(\"Made rollout\")\n",
    "\n",
    "    # Updating policy.\n",
    "    observations = np.concatenate([path[\"observations\"] for path in paths])\n",
    "    actions = np.concatenate([path[\"actions\"] for path in paths])\n",
    "    returns = np.concatenate([path[\"cumulative_returns\"] for path in paths])\n",
    "    old_probs = np.concatenate([path[\"policy\"] for path in paths])\n",
    "\n",
    "    loss, kl = update_step(agent, observations, actions,\n",
    "                           returns, old_probs, max_kl)\n",
    "\n",
    "    # Report current progress\n",
    "    episode_rewards = np.array([path[\"rewards\"].sum() for path in paths])\n",
    "\n",
    "    stats = OrderedDict()\n",
    "    numeptotal += len(episode_rewards)\n",
    "    stats[\"Total number of episodes\"] = numeptotal\n",
    "    stats[\"Average sum of rewards per episode\"] = episode_rewards.mean()\n",
    "    stats[\"Std of rewards per episode\"] = episode_rewards.std()\n",
    "    stats[\"Time elapsed\"] = \"%.2f mins\" % ((time.time() - start_time)/60.)\n",
    "    stats[\"KL between old and new distribution\"] = kl.data.numpy()\n",
    "    stats[\"Entropy\"] = get_entropy(agent, observations).data.numpy()\n",
    "    stats[\"Surrogate loss\"] = loss.data.numpy()\n",
    "    for k, v in stats.items():\n",
    "        print(k + \": \" + \" \" * (40 - len(k)) + str(v))\n",
    "    i += 1"
   ]
  },
  {
   "cell_type": "markdown",
   "metadata": {},
   "source": [
    "# Homework option I: better sampling (10+pts)\n",
    "\n",
    "In this section, you're invited to implement a better rollout strategy called _vine_.\n",
    "\n",
    "![img](https://s17.postimg.cc/i90chxgvj/vine.png)\n",
    "\n",
    "In most gym environments, you can actually backtrack by using states. You can find a wrapper that saves/loads states in [the mcts seminar](https://github.com/yandexdataschool/Practical_RL/blob/master/week10_planning/seminar_MCTS.ipynb).\n",
    "\n",
    "You can read more about in the [TRPO article](https://arxiv.org/abs/1502.05477) in section 5.2.\n",
    "\n",
    "The goal here is to implement such rollout policy (we recommend using tree data structure like in the seminar above).\n",
    "Then you can assign cummulative rewards similar to `get_cummulative_rewards`, but for a tree.\n",
    "\n",
    "__bonus task__ - parallelize samples using multiple cores"
   ]
  },
  {
   "cell_type": "markdown",
   "metadata": {},
   "source": [
    "# Homework option II (10+pts)\n",
    "\n",
    "Let's use TRPO to train evil robots! (pick any of two)\n",
    "* [MuJoCo robots](https://gym.openai.com/envs#mujoco)\n",
    "* [Box2d robot](https://gym.openai.com/envs/BipedalWalker-v2)\n",
    "\n",
    "The catch here is that those environments have continuous action spaces. \n",
    "\n",
    "Luckily, TRPO is a policy gradient method, so it's gonna work for any parametric $\\pi_\\theta(a|s)$. We recommend starting with gaussian policy:\n",
    "\n",
    "$$\\pi_\\theta(a|s) = N(\\mu_\\theta(s),\\sigma^2_\\theta(s)) = {1 \\over \\sqrt { 2 \\pi {\\sigma^2}_\\theta(s) } } e^{ (a - \n",
    "\\mu_\\theta(s))^2 \\over 2 {\\sigma^2}_\\theta(s) } $$\n",
    "\n",
    "In the $\\sqrt { 2 \\pi {\\sigma^2}_\\theta(s) }$ clause, $\\pi$ means ~3.1415926, not agent's policy.\n",
    "\n",
    "This essentially means that you will need two output layers:\n",
    "* $\\mu_\\theta(s)$, a dense layer with linear activation\n",
    "* ${\\sigma^2}_\\theta(s)$, a dense layer with activation tf.exp (to make it positive; like rho from bandits)\n",
    "\n",
    "For multidimensional actions, you can use fully factorized gaussian (basically a vector of gaussians).\n",
    "\n",
    "__bonus task__: compare performance of continuous action space method to action space discretization"
   ]
  },
  {
   "cell_type": "code",
   "execution_count": null,
   "metadata": {},
   "outputs": [],
   "source": []
  }
 ],
 "metadata": {
  "kernelspec": {
   "display_name": "Python 3",
   "language": "python",
   "name": "python3"
  },
  "language_info": {
   "codemirror_mode": {
    "name": "ipython",
    "version": 3
   },
   "file_extension": ".py",
   "mimetype": "text/x-python",
   "name": "python",
   "nbconvert_exporter": "python",
   "pygments_lexer": "ipython3",
   "version": "3.7.3"
  },
  "varInspector": {
   "cols": {
    "lenName": 16,
    "lenType": 16,
    "lenVar": 40
   },
   "kernels_config": {
    "python": {
     "delete_cmd_postfix": "",
     "delete_cmd_prefix": "del ",
     "library": "var_list.py",
     "varRefreshCmd": "print(var_dic_list())"
    },
    "r": {
     "delete_cmd_postfix": ") ",
     "delete_cmd_prefix": "rm(",
     "library": "var_list.r",
     "varRefreshCmd": "cat(var_dic_list()) "
    }
   },
   "types_to_exclude": [
    "module",
    "function",
    "builtin_function_or_method",
    "instance",
    "_Feature"
   ],
   "window_display": false
  }
 },
 "nbformat": 4,
 "nbformat_minor": 2
}
